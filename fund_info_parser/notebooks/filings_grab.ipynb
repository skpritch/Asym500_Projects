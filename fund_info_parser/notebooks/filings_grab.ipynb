{
 "cells": [
  {
   "cell_type": "code",
   "execution_count": 1,
   "id": "7e557776",
   "metadata": {},
   "outputs": [],
   "source": [
    "# Cell 1: Imports & .env loading\n",
    "from azure.storage.blob import BlobServiceClient\n",
    "from dotenv import load_dotenv\n",
    "import os\n",
    "import random\n",
    "\n",
    "# Load .env\n",
    "load_dotenv()\n",
    "\n",
    "# Read the (ambiguous‑named) connection string that has access to the a5filings container\n",
    "A5FILINGS_CONN_STR = os.getenv(\"A5FILINGS_CONN_STR\")\n",
    "if not A5FILINGS_CONN_STR:\n",
    "    raise RuntimeError(\"Missing A5FILINGS_CONN_STR—make sure .env is present and loaded\")\n",
    "\n",
    "# Create the account‑level client\n",
    "service = BlobServiceClient.from_connection_string(A5FILINGS_CONN_STR)\n"
   ]
  },
  {
   "cell_type": "code",
   "execution_count": 2,
   "id": "e5edc596",
   "metadata": {},
   "outputs": [
    {
     "name": "stdout",
     "output_type": "stream",
     "text": [
      "['analyses', 'originals', 'processed']\n"
     ]
    }
   ],
   "source": [
    "print([c.name for c in service.list_containers()])\n"
   ]
  },
  {
   "cell_type": "code",
   "execution_count": 3,
   "id": "eb44f1e7",
   "metadata": {},
   "outputs": [],
   "source": [
    "# Cell 2: Helper to sample & download .htm files from a5filings/processed/\n",
    "def download_random_htm_files(\n",
    "    service: BlobServiceClient,\n",
    "    container_name: str,\n",
    "    prefix: str,\n",
    "    k: int,\n",
    "    local_dir: str\n",
    "):\n",
    "    \"\"\"\n",
    "    - service: BlobServiceClient\n",
    "    - container_name: e.g. \"a5filings\"\n",
    "    - prefix: subfolder under the container root, e.g. \"processed/\"\n",
    "    - k: number of random .htm files to download\n",
    "    - local_dir: local path to save them into\n",
    "    \"\"\"\n",
    "    container_client = service.get_container_client(container_name)\n",
    "\n",
    "    # 1. Enumerate all .htm blobs under prefix\n",
    "    print(f\"Listing blobs under '{container_name}/{prefix}' …\")\n",
    "    all_blobs = container_client.list_blobs(name_starts_with=prefix)\n",
    "    htm_paths = [b.name for b in all_blobs if b.name.lower().endswith('.htm')]\n",
    "    if not htm_paths:\n",
    "        raise FileNotFoundError(f\"No .htm files found under '{prefix}' in container '{container_name}'\")\n",
    "    print(f\"Found {len(htm_paths)} .htm files.\")\n",
    "\n",
    "    # 2. Pick k at random\n",
    "    sampled = random.sample(htm_paths, min(k, len(htm_paths)))\n",
    "    print(f\"Downloading {len(sampled)} randomly selected files…\")\n",
    "\n",
    "    # 3. Ensure local directory exists\n",
    "    os.makedirs(local_dir, exist_ok=True)\n",
    "\n",
    "    # 4. Download each one\n",
    "    for blob_path in sampled:\n",
    "        blob_client = container_client.get_blob_client(blob_path)\n",
    "        data = blob_client.download_blob().readall()\n",
    "\n",
    "        # sanitize filename\n",
    "        fname = blob_path.replace('/', '_')\n",
    "        out_path = os.path.join(local_dir, fname)\n",
    "        with open(out_path, 'wb') as f:\n",
    "            f.write(data)\n",
    "        print(f\"  • Saved {blob_path} → {out_path}\")\n",
    "\n",
    "    print(\"Done.\")\n"
   ]
  },
  {
   "cell_type": "code",
   "execution_count": null,
   "id": "53a46128",
   "metadata": {},
   "outputs": [
    {
     "name": "stdout",
     "output_type": "stream",
     "text": [
      "Listing blobs under 'processed/' …\n",
      "Found 943 .htm files.\n",
      "Downloading 24 randomly selected files…\n",
      "  • Saved 1683471/0000894189-25-001902/glaciersharessummaryprospe.htm → ./data/raw/a5filings_test/1683471_0000894189-25-001902_glaciersharessummaryprospe.htm\n",
      "  • Saved 1924868/0001999371-25-001875/zipp-497k_022425.htm → ./data/raw/a5filings_test/1924868_0001999371-25-001875_zipp-497k_022425.htm\n",
      "  • Saved 1924868/0001999371-25-000042/wdte-497k_010225.htm → ./data/raw/a5filings_test/1924868_0001999371-25-000042_wdte-497k_010225.htm\n",
      "  • Saved 1587982/0001213900-25-038394/ea0238218-04_497k.htm → ./data/raw/a5filings_test/1587982_0001213900-25-038394_ea0238218-04_497k.htm\n",
      "  • Saved 1689873/0001641172-25-008520/form497k.htm → ./data/raw/a5filings_test/1689873_0001641172-25-008520_form497k.htm\n",
      "  • Saved 1924868/0001999371-25-006884/rsst-497k_053025.htm → ./data/raw/a5filings_test/1924868_0001999371-25-006884_rsst-497k_053025.htm\n",
      "  • Saved 1689873/0001641172-25-008505/form497k.htm → ./data/raw/a5filings_test/1689873_0001641172-25-008505_form497k.htm\n",
      "  • Saved 1689873/0001641172-25-008511/form497k.htm → ./data/raw/a5filings_test/1689873_0001641172-25-008511_form497k.htm\n",
      "  • Saved 1424958/0001193125-25-039969/d882427d497k.htm → ./data/raw/a5filings_test/1424958_0001193125-25-039969_d882427d497k.htm\n",
      "  • Saved 1771146/0001999371-25-000464/brookmont-485bpos_011725.htm → ./data/raw/a5filings_test/1771146_0001999371-25-000464_brookmont-485bpos_011725.htm\n",
      "  • Saved 1810747/0001829126-25-003313/simplifyetf-qis_497k.htm → ./data/raw/a5filings_test/1810747_0001829126-25-003313_simplifyetf-qis_497k.htm\n",
      "  • Saved 1976322/0000894189-25-000710/themeslithiumbatterymetalm.htm → ./data/raw/a5filings_test/1976322_0000894189-25-000710_themeslithiumbatterymetalm.htm\n",
      "  • Saved 1683471/0000894189-25-003295/decemberetf.htm → ./data/raw/a5filings_test/1683471_0000894189-25-003295_decemberetf.htm\n",
      "  • Saved 1722388/0001999371-25-006488/accuvest-485bpos_052125.htm → ./data/raw/a5filings_test/1722388_0001999371-25-006488_accuvest-485bpos_052125.htm\n",
      "  • Saved 1174610/0001683863-25-003318/f41376d1.htm → ./data/raw/a5filings_test/1174610_0001683863-25-003318_f41376d1.htm\n",
      "  • Saved 1976517/0001398344-25-008312/fp0093381-2_497k.htm → ./data/raw/a5filings_test/1976517_0001398344-25-008312_fp0093381-2_497k.htm\n",
      "  • Saved 1424958/0001193125-25-039976/d889800d497k.htm → ./data/raw/a5filings_test/1424958_0001193125-25-039976_d889800d497k.htm\n",
      "  • Saved 1587982/0001398344-25-006320/fp0092599-2_497k.htm → ./data/raw/a5filings_test/1587982_0001398344-25-006320_fp0092599-2_497k.htm\n",
      "  • Saved 1722388/0001999371-25-002821/azoria_485apos-031925.htm → ./data/raw/a5filings_test/1722388_0001999371-25-002821_azoria_485apos-031925.htm\n",
      "  • Saved 1547576/0001829126-25-001710/kraneshares_497k.htm → ./data/raw/a5filings_test/1547576_0001829126-25-001710_kraneshares_497k.htm\n",
      "  • Saved 1683471/0000894189-25-003286/apriletf.htm → ./data/raw/a5filings_test/1683471_0000894189-25-003286_apriletf.htm\n",
      "  • Saved 1174610/0001683863-25-003320/f41378d1.htm → ./data/raw/a5filings_test/1174610_0001683863-25-003320_f41378d1.htm\n",
      "  • Saved 1722388/0001999371-25-007354/smart_485apos-060625.htm → ./data/raw/a5filings_test/1722388_0001999371-25-007354_smart_485apos-060625.htm\n",
      "  • Saved 1547576/0001829126-25-003404/kraneshares_497k.htm → ./data/raw/a5filings_test/1547576_0001829126-25-003404_kraneshares_497k.htm\n",
      "Done.\n"
     ]
    }
   ],
   "source": [
    "# Cell 3: Run the sampler\n",
    "CONTAINER_NAME = \"processed\"          # this container actually exists\n",
    "PREFIX         = \"\"                   # root of that container\n",
    "K              = 24\n",
    "LOCAL_DIR      = \"../data/raw/a5filings_test\"\n",
    "\n",
    "download_random_htm_files(\n",
    "    service=service,\n",
    "    container_name=CONTAINER_NAME,\n",
    "    prefix=PREFIX,\n",
    "    k=K,\n",
    "    local_dir=LOCAL_DIR\n",
    ")"
   ]
  }
 ],
 "metadata": {
  "kernelspec": {
   "display_name": "asym500",
   "language": "python",
   "name": "python3"
  },
  "language_info": {
   "codemirror_mode": {
    "name": "ipython",
    "version": 3
   },
   "file_extension": ".py",
   "mimetype": "text/x-python",
   "name": "python",
   "nbconvert_exporter": "python",
   "pygments_lexer": "ipython3",
   "version": "3.10.18"
  }
 },
 "nbformat": 4,
 "nbformat_minor": 5
}
